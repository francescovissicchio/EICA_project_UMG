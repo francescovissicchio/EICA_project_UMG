{
  "nbformat": 4,
  "nbformat_minor": 0,
  "metadata": {
    "colab": {
      "provenance": []
    },
    "kernelspec": {
      "name": "python3",
      "display_name": "Python 3"
    },
    "language_info": {
      "name": "python"
    }
  },
  "cells": [
    {
      "cell_type": "code",
      "source": [
        "!pip install SimpleITK"
      ],
      "metadata": {
        "colab": {
          "base_uri": "https://localhost:8080/"
        },
        "id": "nxrW8Y71CDvX",
        "outputId": "4686371a-044a-42df-d83b-d2bb54dbf2df"
      },
      "execution_count": 1,
      "outputs": [
        {
          "output_type": "stream",
          "name": "stdout",
          "text": [
            "Collecting SimpleITK\n",
            "  Downloading SimpleITK-2.3.1-cp310-cp310-manylinux_2_17_x86_64.manylinux2014_x86_64.whl (52.7 MB)\n",
            "\u001b[2K     \u001b[90m━━━━━━━━━━━━━━━━━━━━━━━━━━━━━━━━━━━━━━━━\u001b[0m \u001b[32m52.7/52.7 MB\u001b[0m \u001b[31m13.0 MB/s\u001b[0m eta \u001b[36m0:00:00\u001b[0m\n",
            "\u001b[?25hInstalling collected packages: SimpleITK\n",
            "Successfully installed SimpleITK-2.3.1\n"
          ]
        }
      ]
    },
    {
      "cell_type": "code",
      "source": [
        "# Importazione delle librerie necessarie\n",
        "import SimpleITK as sitk\n",
        "from google.colab import files\n",
        "\n",
        "# Caricamento delle immagini .nrrd\n",
        "# Questo codice apre un widget di file browser con cui puoi selezionare i file dal tuo computer.\n",
        "uploaded = files.upload()\n"
      ],
      "metadata": {
        "id": "UMmnZcEXIWKT"
      },
      "execution_count": null,
      "outputs": []
    },
    {
      "cell_type": "markdown",
      "source": [
        "**Registrazione rigida**"
      ],
      "metadata": {
        "id": "HFB64_N4ZYlR"
      }
    },
    {
      "cell_type": "code",
      "source": [
        "import SimpleITK as sitk\n",
        "\n",
        "# Leggere le immagini usando SimpleITK\n",
        "fixed_image = sitk.ReadImage('patient1.nrrd', sitk.sitkFloat32)\n",
        "moving_image = sitk.ReadImage('patient2.nrrd', sitk.sitkFloat32)\n",
        "\n",
        "# Creare un oggetto di registrazione\n",
        "registration_method = sitk.ImageRegistrationMethod()\n",
        "\n",
        "# Configurazione della metrica di somiglianza\n",
        "registration_method.SetMetricAsMattesMutualInformation(numberOfHistogramBins=50)\n",
        "\n",
        "# Configurazione dell'ottimizzatore\n",
        "registration_method.SetOptimizerAsGradientDescent(learningRate=1.0, numberOfIterations=100, convergenceMinimumValue=1e-6, convergenceWindowSize=10)\n",
        "\n",
        "# Inizializzazione della trasformazione\n",
        "initial_transform = sitk.CenteredTransformInitializer(fixed_image,\n",
        "                                                      moving_image,\n",
        "                                                      sitk.Euler3DTransform(),\n",
        "                                                      sitk.CenteredTransformInitializerFilter.GEOMETRY)\n",
        "\n",
        "registration_method.SetInitialTransform(initial_transform)\n",
        "\n",
        "# Configurazione dell'interpolatore\n",
        "registration_method.SetInterpolator(sitk.sitkLinear)\n",
        "\n",
        "# Configurazione delle opzioni di registrazione\n",
        "registration_method.SetOptimizerScalesFromPhysicalShift()\n",
        "\n",
        "# Avvio della registrazione\n",
        "final_transform = registration_method.Execute(fixed_image, moving_image)\n",
        "\n",
        "# Applicare la trasformazione all'immagine mobile per allinearla con l'immagine fissa\n",
        "moving_resampled = sitk.Resample(moving_image, fixed_image, final_transform, sitk.sitkLinear, 0.0, moving_image.GetPixelID())\n",
        "\n",
        "# Salvataggio dell'immagine risultante se necessario\n",
        "sitk.WriteImage(moving_resampled, 'fixed_registration.nrrd')"
      ],
      "metadata": {
        "id": "qtpdUkr7N6mE"
      },
      "execution_count": null,
      "outputs": []
    },
    {
      "cell_type": "markdown",
      "source": [
        "**Registrazione deformabile**"
      ],
      "metadata": {
        "id": "zkSg1bJ3ZPfA"
      }
    },
    {
      "cell_type": "code",
      "source": [
        "import SimpleITK as sitk\n",
        "\n",
        "# Leggi le immagini fisse e mobili\n",
        "fixed_image = sitk.ReadImage('fixed_registration.nrrd', sitk.sitkFloat32)\n",
        "moving_image = sitk.ReadImage('patient1.nrrd', sitk.sitkFloat32)\n",
        "\n",
        "# Inizializza il metodo di registrazione\n",
        "registration_method = sitk.ImageRegistrationMethod()\n",
        "\n",
        "# Registrazione per allineamento dei centri\n",
        "initial_transform = sitk.CenteredTransformInitializer(fixed_image,\n",
        "                                                      moving_image,\n",
        "                                                      sitk.Euler3DTransform(),\n",
        "                                                      sitk.CenteredTransformInitializerFilter.GEOMETRY)\n",
        "registration_method.SetInitialTransform(initial_transform, True)\n",
        "\n",
        "# Primo stadio: registrazione bspline con impostazioni generali\n",
        "bspline_transform = sitk.BSplineTransformInitializer(image1=fixed_image,\n",
        "                                                     transformDomainMeshSize=[2, 2, 2],\n",
        "                                                     order=3)\n",
        "registration_method.SetInitialTransform(bspline_transform, False)\n",
        "\n",
        "# Imposta l'ottimizzatore\n",
        "registration_method.SetOptimizerAsLBFGSB(gradientConvergenceTolerance=1e-5,\n",
        "                                         numberOfIterations=100,\n",
        "                                         maximumNumberOfCorrections=5,\n",
        "                                         maximumNumberOfFunctionEvaluations=1000,\n",
        "                                         costFunctionConvergenceFactor=1e+7)\n",
        "\n",
        "# Imposta il metodo di metrica\n",
        "registration_method.SetMetricAsMeanSquares()\n",
        "\n",
        "# Imposta i parametri di convergenza\n",
        "registration_method.SetMetricSamplingStrategy(registration_method.RANDOM)\n",
        "registration_method.SetMetricSamplingPercentage(0.01)\n",
        "registration_method.SetInterpolator(sitk.sitkLinear)\n",
        "\n",
        "# Esegui la registrazione per il primo stadio\n",
        "registration_method.Execute(fixed_image, moving_image)\n",
        "\n",
        "# Secondo stadio: affinamento della registrazione con maggiore risoluzione della griglia\n",
        "bspline_transform_refined = sitk.BSplineTransformInitializer(image1=fixed_image,\n",
        "                                                             transformDomainMeshSize=[1, 1, 1],\n",
        "                                                             order=3)\n",
        "registration_method.SetInitialTransform(bspline_transform_refined, False)\n",
        "\n",
        "# Esegui la registrazione per il secondo stadio\n",
        "registration_method.Execute(fixed_image, moving_image)\n",
        "\n",
        "# Salva la trasformazione risultante\n",
        "sitk.WriteTransform(bspline_transform_refined, 'deformable_transform.tfm')\n",
        "\n",
        "# Applica la trasformazione all'immagine mobile e salvala\n",
        "resampled = sitk.Resample(moving_image, fixed_image, bspline_transform_refined, sitk.sitkLinear, 0.0, moving_image.GetPixelID())\n",
        "sitk.WriteImage(resampled, 'registered_patient1.nrrd')\n",
        "\n",
        "print(\"Registrazione deformabile completata.\")"
      ],
      "metadata": {
        "colab": {
          "base_uri": "https://localhost:8080/"
        },
        "id": "jKsY6sgFPiya",
        "outputId": "a0c74cb5-59b6-4214-fa89-5c6777caa92f"
      },
      "execution_count": 5,
      "outputs": [
        {
          "output_type": "stream",
          "name": "stdout",
          "text": [
            "Registrazione deformabile completata.\n"
          ]
        }
      ]
    }
  ]
}